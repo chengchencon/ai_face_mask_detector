{
  "nbformat": 4,
  "nbformat_minor": 0,
  "metadata": {
    "colab": {
      "name": "Untitled2.ipynb",
      "provenance": [],
      "collapsed_sections": [],
      "authorship_tag": "ABX9TyP6i1GM5S9vqdV0qU1Vgejw",
      "include_colab_link": true
    },
    "kernelspec": {
      "name": "python3",
      "display_name": "Python 3"
    },
    "language_info": {
      "name": "python"
    }
  },
  "cells": [
    {
      "cell_type": "markdown",
      "metadata": {
        "id": "view-in-github",
        "colab_type": "text"
      },
      "source": [
        "<a href=\"https://colab.research.google.com/github/chengchencon/ai_face_mask_detector/blob/main/Evaluation.ipynb\" target=\"_parent\"><img src=\"https://colab.research.google.com/assets/colab-badge.svg\" alt=\"Open In Colab\"/></a>"
      ]
    },
    {
      "cell_type": "markdown",
      "source": [
        "# **Evaluation Process**"
      ],
      "metadata": {
        "id": "u7X1q0LlQDzH"
      }
    },
    {
      "cell_type": "markdown",
      "source": [
        "Here we are starting our evaluation process. \n",
        "Our target is to calculate the confusion matrix, precison, accuracy, recall and f-measure of our test results.\n",
        "First, we need to import needed libraries as below "
      ],
      "metadata": {
        "id": "QmG7v_EURUbX"
      }
    }
  ]
}